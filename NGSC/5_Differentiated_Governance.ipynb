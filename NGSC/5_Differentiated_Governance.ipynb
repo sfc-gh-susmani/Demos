{
 "metadata": {
  "kernelspec": {
   "display_name": "Streamlit Notebook",
   "name": "streamlit"
  },
  "lastEditStatus": {
   "notebookId": "nao5zbkwebgnaholpogh",
   "authorId": "492945067848",
   "authorName": "SFACCHINE",
   "authorEmail": "saad.facchine@snowflake.com",
   "sessionId": "70d713b2-6467-4a87-827a-57bda14b5e7d",
   "lastEditTime": 1742497166259
  }
 },
 "nbformat_minor": 5,
 "nbformat": 4,
 "cells": [
  {
   "cell_type": "markdown",
   "id": "0a0b20f9-0050-4442-b3c8-709da5371ac7",
   "metadata": {
    "name": "Use_Case_21",
    "collapsed": false
   },
   "source": "### Use Case 21\n\nDescription: Demonstrate the creation of a custom data quality rule, measure that rule against a dataset, and show the results.\n\n\n### **Overview**\nThis worksheet demonstrates **Snowflake's built-in data quality monitoring and governance features**, enabling **proactive data integrity checks**.\n\nSnowflake supports **custom data metric functions** to validate and monitor data quality **natively**.\n\n### **How It Differs from Competitors:**\n✅ **No External Tools Needed** – Data quality checks are built directly into Snowflake.  \n✅ **Runs Natively in Snowflake** – Reduces complexity by avoiding external processing.  \n✅ **Fully Automated Scheduling** – No need for manual intervention; metrics can be scheduled automatically.  \n\nThese features ensure **high-quality, well-governed data** without relying on additional monitoring frameworks."
  },
  {
   "cell_type": "code",
   "id": "f5b4323a-1788-4d89-89e3-efcfe5f516e8",
   "metadata": {
    "language": "sql",
    "name": "cell5"
   },
   "outputs": [],
   "source": "CREATE OR REPLACE DATA METRIC FUNCTION\n  invalid_email_count (ARG_T table(ARG_C1 STRING))\n  RETURNS NUMBER AS\n  'SELECT COUNT_IF(FALSE = (\n    ARG_C1 REGEXP ''^[A-Za-z0-9.~*_%+-]+@[A-Za-z0-9.-]+\\.[A-Za-z]{2,4}$''))\n    FROM ARG_T';\n\nALTER TABLE frostbyte_tasty_bytes.raw_customer.customer_loyalty SET DATA_METRIC_SCHEDULE = '5 MINUTES';\n\nALTER TABLE frostbyte_tasty_bytes.raw_customer.customer_loyalty ADD DATA METRIC FUNCTION\n  invalid_email_count ON (e_mail);",
   "execution_count": null
  },
  {
   "cell_type": "markdown",
   "id": "9e054855-13da-4639-854d-4628611e264e",
   "metadata": {
    "name": "cell7",
    "collapsed": false
   },
   "source": "### Retrieving Data Quality Metrics\n\nSnowflake allows querying metadata to track **applied metrics** and **validation results** in real time.  \nUnlike other solutions that require **manual logging**, Snowflake provides **built-in** tracking for seamless monitoring.\n\nWith these capabilities, NGSC can efficiently **audit, validate, and enforce** data quality standards **without additional overhead**.\n"
  },
  {
   "cell_type": "code",
   "id": "d1483534-0450-4cbb-8f0b-724011ab2e8d",
   "metadata": {
    "language": "sql",
    "name": "cell1"
   },
   "outputs": [],
   "source": "SELECT * FROM TABLE(INFORMATION_SCHEMA.DATA_METRIC_FUNCTION_REFERENCES(\n  REF_ENTITY_NAME => 'frostbyte_tasty_bytes.raw_customer.customer_loyalty',\n  REF_ENTITY_DOMAIN => 'TABLE'));",
   "execution_count": null
  },
  {
   "cell_type": "code",
   "id": "5ce06b29-ec29-42a6-8985-24e3112f53d2",
   "metadata": {
    "language": "sql",
    "name": "cell8"
   },
   "outputs": [],
   "source": "SELECT scheduled_time, measurement_time, table_name, metric_name, value\nFROM SNOWFLAKE.LOCAL.DATA_QUALITY_MONITORING_RESULTS\nWHERE METRIC_NAME = 'INVALID_EMAIL_COUNT'\nAND METRIC_DATABASE = 'FROSTBYTE_TASTY_BYTES'\nLIMIT 100;",
   "execution_count": null
  },
  {
   "cell_type": "markdown",
   "id": "30535d6d-2af8-426e-9d80-eb81744406f6",
   "metadata": {
    "name": "Use_Case_22",
    "collapsed": false
   },
   "source": "### Use Case 22\n\nDesription: Demonstrate the measuring of data quality using the platforms built-in data quality rules and show the results.\n\nSolution: Snowflake provides **out-of-the-box** data quality metrics, eliminating the need for additional scripts.  \nUnlike other platforms, Snowflake allows applying these functions **directly at query time** for real-time monitoring.\n\n### Available Metrics:\n- **BLANK_COUNT, BLANK_PERCENT** – Track empty string values.\n- **NULL_COUNT, NULL_PERCENT** – Monitor missing data.\n- **Freshness** – Measure data timeliness.\n- **AVG, MAX, MIN, STDDEV** – Compute statistical insights.\n- **DUPLICATE_COUNT, UNIQUE_COUNT** – Identify duplicates and unique values.\n- **ROW_COUNT** – Count total records.\n\nThese built-in metrics ensure **automated and scalable** data quality enforcement within Snowflake.\n"
  },
  {
   "cell_type": "code",
   "id": "4c44c284-dea9-4e55-96a2-4516cdbd8776",
   "metadata": {
    "language": "sql",
    "name": "cell2"
   },
   "outputs": [],
   "source": "-- Example: Check the percentage of NULL values in the 'favourite_brand' column\nSELECT snowflake.core.row_count (SELECT favourite_brand FROM frostbyte_tasty_bytes.raw_customer.customer_loyalty);\n\n",
   "execution_count": null
  },
  {
   "cell_type": "code",
   "id": "2f2ffdd2-8809-4042-8885-0758303ef630",
   "metadata": {
    "language": "sql",
    "name": "cell3"
   },
   "outputs": [],
   "source": "-- Example: Execute a full data quality scan on a specific metric\nSELECT *\n  FROM TABLE(SYSTEM$DATA_METRIC_SCAN(\n    REF_ENTITY_NAME  => 'frostbyte_tasty_bytes.raw_customer.customer_loyalty',\n    METRIC_NAME  => 'snowflake.core.null_percent',\n    ARGUMENT_NAME => 'favourite_brand'\n   ));",
   "execution_count": null
  },
  {
   "cell_type": "markdown",
   "id": "4f0b6b2b-9850-4660-b96b-1ce37223a6b4",
   "metadata": {
    "name": "cell6",
    "collapsed": false
   },
   "source": "### **Summary**\n\nSnowflake provides **built-in** capabilities for **data quality monitoring** and **governance**, eliminating the need for external tools.\n\n### **Key Features:**\n- ✅ **Integrated Data Metric Functions** – Perform data quality checks directly in Snowflake without third-party tools.  \n- ✅ **Automated Scheduling** – Data quality validations can be scheduled natively for continuous enforcement.  \n- ✅ **Built-in System Metrics** – Monitor **completeness, uniqueness, and data freshness** in real-time.  \n- ✅ **Fully Queryable Governance Metadata** – Enables proactive monitoring and auditing of data quality.  \n\nWith these features, Snowflake ensures **scalable, automated, and enterprise-ready data quality enforcement.**\n"
  }
 ]
}