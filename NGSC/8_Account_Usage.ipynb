{
 "metadata": {
  "kernelspec": {
   "display_name": "Streamlit Notebook",
   "name": "streamlit"
  },
  "lastEditStatus": {
   "notebookId": "jnkvhlxeor3cy4rtyhwf",
   "authorId": "5667889778236",
   "authorName": "CLONG",
   "authorEmail": "corey.long@snowflake.com",
   "sessionId": "5990c8c5-4ce0-49bb-ae89-30ce39d0c740",
   "lastEditTime": 1742501267979
  }
 },
 "nbformat_minor": 5,
 "nbformat": 4,
 "cells": [
  {
   "cell_type": "markdown",
   "id": "3775908f-ca36-4846-8f38-5adca39217f2",
   "metadata": {
    "name": "overview",
    "collapsed": false
   },
   "source": "### Use Case 15\n\nDescription: Demonstrate in the event of a data leak how we can audit access and activity within the system.\n\n### **Overview**\nThis worksheet demonstrates **Snowflake's logging for whenever a user accesses data**, enabling **audit capabilities for data accessed and queries executed**.\n\nSnowflake's built-in [ACCOUNT_USAGE](https://docs.snowflake.com/en/sql-reference/account-usage) schema provides 100+ views and table functions out of the box that provide a variety of insights for Snowflake administrators."
  },
  {
   "cell_type": "markdown",
   "id": "9a5e069d-5025-450e-9fd2-51e24a06d0eb",
   "metadata": {
    "name": "login_history",
    "collapsed": false
   },
   "source": "### Login History\n\nThe [LOGIN_HISTORY](https://docs.snowflake.com/en/sql-reference/account-usage/login_history) view provides logs for all login attempts, successful and unsuccessful."
  },
  {
   "cell_type": "code",
   "id": "8d50cbf4-0c8d-4950-86cb-114990437ac9",
   "metadata": {
    "language": "sql",
    "name": "login_history_query"
   },
   "source": "use database snowflake;\nuse schema account_usage;\n\nselect \n    *\nfrom login_history\norder by event_timestamp desc\nlimit 1000;",
   "execution_count": null,
   "outputs": []
  },
  {
   "cell_type": "markdown",
   "id": "e66c4e51-124d-435e-be8a-14265cb2164e",
   "metadata": {
    "name": "query_history",
    "collapsed": false
   },
   "source": "### Query History\n\nThe [QUERY_HISTORY](https://docs.snowflake.com/en/sql-reference/functions/query_history) view can be used to query Snowflake query history by various dimensions (time range, session, user, warehouse, etc.).\n\nIn addition to using QUERY_HISTORY, you can use the Snowsight UI to dig deeper into the Query Profile for any individual query. This view provides a graphical representation with performance metrics to help **identify performance bottlenecks** within a specific query."
  },
  {
   "cell_type": "code",
   "id": "be1040b7-af4d-4c9f-b0ca-a4e35173f039",
   "metadata": {
    "language": "sql",
    "name": "query_history_query"
   },
   "outputs": [],
   "source": "use database snowflake;\nuse schema account_usage;\n\nselect\n    *\nfrom query_history\norder by end_time desc\nlimit 100;",
   "execution_count": null
  },
  {
   "cell_type": "markdown",
   "id": "7e2d3be2-8fe0-46cd-8ef8-3923dd8665dc",
   "metadata": {
    "name": "access_history",
    "collapsed": false
   },
   "source": "### Access History\n\nThe [ACCESS_HISTORY](https://docs.snowflake.com/en/sql-reference/account-usage/access_history) view can be used to **audit when any user reads data and/or performs a data write operation**, such as INSERT, UPDATE, and DELETE along with variations of the COPY command. The view also provides the capability to audit **lineage from the source data object to the target data object**."
  },
  {
   "cell_type": "code",
   "id": "cd5c962b-b873-4722-ada6-00c611b5182e",
   "metadata": {
    "language": "sql",
    "name": "access_history_user"
   },
   "outputs": [],
   "source": "SELECT user_name\n       , query_id\n       , query_start_time\n       , direct_objects_accessed\n       , base_objects_accessed\nFROM access_history\nORDER BY 1, 3 desc\nLIMIT 100;",
   "execution_count": null
  },
  {
   "cell_type": "code",
   "id": "ddd7d933-c976-40d4-b9e7-61ae6a1cd8a8",
   "metadata": {
    "language": "sql",
    "name": "access_history_object_users"
   },
   "outputs": [],
   "source": "SELECT distinct user_name\nFROM access_history\n     , lateral flatten(base_objects_accessed) f1\nWHERE f1.value:\"objectId\"::int=50211\nAND f1.value:\"objectDomain\"::string='Table'\nAND query_start_time >= dateadd('day', -30, current_timestamp())\n;",
   "execution_count": null
  },
  {
   "cell_type": "code",
   "id": "f19450b0-347e-41fb-80f9-793df2441dee",
   "metadata": {
    "language": "sql",
    "name": "access_history_queries"
   },
   "outputs": [],
   "source": "SELECT query_id\n       , query_start_time\nFROM access_history\n     , lateral flatten(base_objects_accessed) f1\nWHERE f1.value:\"objectId\"::int=50211\nAND f1.value:\"objectDomain\"::string='Table'\nAND query_start_time >= dateadd('day', -30, current_timestamp())\n;",
   "execution_count": null
  },
  {
   "cell_type": "code",
   "id": "0642a477-8561-40d6-9cdf-15ad8caa16dc",
   "metadata": {
    "language": "sql",
    "name": "access_history_cols"
   },
   "outputs": [],
   "source": "SELECT distinct f4.value AS column_name\nFROM access_history\n     , lateral flatten(base_objects_accessed) f1\n     , lateral flatten(f1.value) f2\n     , lateral flatten(f2.value) f3\n     , lateral flatten(f3.value) f4\nWHERE f1.value:\"objectId\"::int=50211\nAND f1.value:\"objectDomain\"::string='Table'\nAND f4.key='columnName'\n;",
   "execution_count": null
  },
  {
   "cell_type": "code",
   "id": "736511d1-32f0-4fd1-98e2-e347c5e42dee",
   "metadata": {
    "language": "sql",
    "name": "access_history_lineage"
   },
   "outputs": [],
   "source": "// 1\n\nselect\n  directSources.value: \"objectId\" as source_object_id,\n  directSources.value: \"objectName\" as source_object_name,\n  directSources.value: \"columnName\" as source_column_name,\n  'DIRECT' as source_column_type,\n  om.value: \"objectName\" as target_object_name,\n  columns_modified.value: \"columnName\" as target_column_name\nfrom\n  (\n    select\n      *\n    from\n      snowflake.account_usage.access_history\n  ) t,\n  lateral flatten(input => t.OBJECTS_MODIFIED) om,\n  lateral flatten(input => om.value: \"columns\", outer => true) columns_modified,\n  lateral flatten(\n    input => columns_modified.value: \"directSources\",\n    outer => true\n  ) directSources\n\nunion\n\n// 2\n\nselect\n  baseSources.value: \"objectId\" as source_object_id,\n  baseSources.value: \"objectName\" as source_object_name,\n  baseSources.value: \"columnName\" as source_column_name,\n  'BASE' as source_column_type,\n  om.value: \"objectName\" as target_object_name,\n  columns_modified.value: \"columnName\" as target_column_name\nfrom\n  (\n    select\n      *\n    from\n      snowflake.account_usage.access_history\n  ) t,\n  lateral flatten(input => t.OBJECTS_MODIFIED) om,\n  lateral flatten(input => om.value: \"columns\", outer => true) columns_modified,\n  lateral flatten(\n    input => columns_modified.value: \"baseSources\",\n    outer => true\n  ) baseSources\n;",
   "execution_count": null
  }
 ]
}