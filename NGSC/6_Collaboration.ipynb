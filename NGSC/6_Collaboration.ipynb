{
 "metadata": {
  "kernelspec": {
   "display_name": "Streamlit Notebook",
   "name": "streamlit"
  },
  "lastEditStatus": {
   "notebookId": "v3g7wpesbt32cdazc62c",
   "authorId": "492945067848",
   "authorName": "SFACCHINE",
   "authorEmail": "saad.facchine@snowflake.com",
   "sessionId": "9032f74b-2d5e-4082-960f-5c0794b45256",
   "lastEditTime": 1742435458637
  }
 },
 "nbformat_minor": 5,
 "nbformat": 4,
 "cells": [
  {
   "cell_type": "markdown",
   "id": "63ee2d18-2a18-47ee-83fe-206ad21c6ad6",
   "metadata": {
    "name": "cell1",
    "collapsed": false
   },
   "source": "### Use Case 18\n\n\n-> Let's go into the UI"
  },
  {
   "cell_type": "markdown",
   "id": "7f618a24-07e1-4f4d-96c5-7d6d2caeed28",
   "metadata": {
    "name": "cell2",
    "collapsed": false
   },
   "source": "### Use Case 23\n\n-> Let's go into the UI"
  },
  {
   "cell_type": "markdown",
   "id": "dabfa981-2e11-4187-9f1a-2ec87c22df45",
   "metadata": {
    "name": "cell3",
    "collapsed": false
   },
   "source": "### Use Case 24\n\n-> Let's go into the UI\n\n-> Data Sharing Account ID: SFSENORTHAMERICA.SFACCHINE_CONSUMER"
  }
 ]
}
