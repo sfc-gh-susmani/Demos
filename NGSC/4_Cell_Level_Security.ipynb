{
 "cells": [
  {
   "cell_type": "markdown",
   "id": "8e679d41-f47b-4bc6-b44d-cf024acfde47",
   "metadata": {
    "collapsed": false,
    "name": "Use_Case_19"
   },
   "source": [
    "### Use Case 19:"
   ]
  },
  {
   "cell_type": "code",
   "execution_count": null,
   "id": "6d2388a6-da05-40f5-bca9-33785d922a65",
   "metadata": {
    "language": "sql",
    "name": "cell2"
   },
   "outputs": [],
   "source": [
    "-- Step 1 - Finding our PII Columns\n",
    "USE ROLE accountadmin;\n",
    "USE WAREHOUSE tasty_dev_wh;\n",
    "\n",
    "SELECT \n",
    "    cl.customer_id,\n",
    "    cl.first_name,\n",
    "    cl.last_name,\n",
    "    cl.e_mail,\n",
    "    cl.phone_number,\n",
    "    cl.city,\n",
    "    cl.country\n",
    "FROM frostbyte_tasty_bytes.raw_customer.customer_loyalty cl;"
   ]
  },
  {
   "cell_type": "code",
   "execution_count": null,
   "id": "04518c70-87d1-4582-99e4-0412ce482a2f",
   "metadata": {
    "language": "sql",
    "name": "cell3"
   },
   "outputs": [],
   "source": [
    "--  Step 2 - Creating Tags\n",
    "USE ROLE accountadmin;\n",
    "\n",
    "CREATE OR REPLACE TAG frostbyte_tasty_bytes.raw_customer.pii_name_tag\n",
    "    COMMENT = 'PII Tag for Name Columns';\n",
    "    \n",
    "CREATE OR REPLACE TAG frostbyte_tasty_bytes.raw_customer.pii_phone_number_tag\n",
    "    COMMENT = 'PII Tag for Phone Number Columns';\n",
    "    \n",
    "CREATE OR REPLACE TAG frostbyte_tasty_bytes.raw_customer.pii_email_tag\n",
    "    COMMENT = 'PII Tag for E-mail Columns';"
   ]
  },
  {
   "cell_type": "code",
   "execution_count": null,
   "id": "e787abe1-86ac-4f59-a794-451fa1d11f95",
   "metadata": {
    "language": "sql",
    "name": "cell4"
   },
   "outputs": [],
   "source": [
    "-- Section 4 - Step 3 - Applying Tags\n",
    "ALTER TABLE frostbyte_tasty_bytes.raw_customer.customer_loyalty \n",
    "    MODIFY COLUMN first_name \n",
    "        SET TAG frostbyte_tasty_bytes.raw_customer.pii_name_tag = 'First Name';\n",
    "\n",
    "ALTER TABLE frostbyte_tasty_bytes.raw_customer.customer_loyalty \n",
    "    MODIFY COLUMN last_name \n",
    "        SET TAG frostbyte_tasty_bytes.raw_customer.pii_name_tag = 'Last Name';\n",
    "\n",
    "ALTER TABLE frostbyte_tasty_bytes.raw_customer.customer_loyalty \n",
    "    MODIFY COLUMN phone_number \n",
    "        SET TAG frostbyte_tasty_bytes.raw_customer.pii_phone_number_tag = 'Phone Number';\n",
    "\n",
    "ALTER TABLE frostbyte_tasty_bytes.raw_customer.customer_loyalty \n",
    "    MODIFY COLUMN e_mail\n",
    "        SET TAG frostbyte_tasty_bytes.raw_customer.pii_email_tag = 'E-mail Address';"
   ]
  },
  {
   "cell_type": "code",
   "execution_count": null,
   "id": "451411b0-5603-406e-a2c2-fc1c347645ad",
   "metadata": {
    "language": "sql",
    "name": "cell5"
   },
   "outputs": [],
   "source": [
    "-- Section 4: Step 4 - Exploring Tags on a Table\n",
    "SELECT \n",
    "    tag_database,\n",
    "    tag_schema,\n",
    "    tag_name,\n",
    "    column_name,\n",
    "    tag_value \n",
    "FROM TABLE(frostbyte_tasty_bytes.information_schema.tag_references_all_columns\n",
    "    ('frostbyte_tasty_bytes.raw_customer.customer_loyalty','table'));\n"
   ]
  },
  {
   "cell_type": "markdown",
   "id": "f72a96df-edc2-47e0-b083-94ec532bbebf",
   "metadata": {
    "collapsed": false,
    "name": "Use_Case_20"
   },
   "source": [
    "### Use Case 20:"
   ]
  },
  {
   "cell_type": "code",
   "execution_count": null,
   "id": "952253a8-b1c7-4c9b-8eba-80410b3caa6c",
   "metadata": {
    "language": "sql",
    "name": "cell14"
   },
   "outputs": [],
   "source": [
    "--This table will store processed records flagged with the pii_email_tag:\n",
    "CREATE OR REPLACE TABLE frostbyte_tasty_bytes.raw_customer.email_tagged_audit (\n",
    "    id STRING,\n",
    "    e_mail STRING,\n",
    "    tag_value STRING,\n",
    "    processed_at TIMESTAMP\n",
    ");\n"
   ]
  },
  {
   "cell_type": "markdown",
   "id": "7a1d863f-1a18-4a41-a147-d371befdeeaa",
   "metadata": {
    "collapsed": false,
    "name": "cell18"
   },
   "source": [
    "This stored procedure will:\n",
    "\n",
    "- Identify which columns have the pii_email_tag.\n",
    "- Extract relevant email data.\n",
    "- Log the results."
   ]
  },
  {
   "cell_type": "code",
   "execution_count": null,
   "id": "cfa1d30e-c1d8-4fe6-9d6a-fa022839835f",
   "metadata": {
    "language": "sql",
    "name": "cell16"
   },
   "outputs": [],
   "source": [
    "CREATE OR REPLACE PROCEDURE frostbyte_tasty_bytes.raw_customer.process_pii_email_tag()\n",
    "RETURNS STRING\n",
    "LANGUAGE SQL\n",
    "AS\n",
    "$$\n",
    "BEGIN\n",
    "    -- Insert data into audit table based on the email tag\n",
    "    INSERT INTO frostbyte_tasty_bytes.raw_customer.email_tagged_audit (id, e_mail, tag_value, processed_at)\n",
    "    SELECT \n",
    "        cl.id, \n",
    "        cl.e_mail, \n",
    "        tg.value, \n",
    "        CURRENT_TIMESTAMP\n",
    "    FROM frostbyte_tasty_bytes.raw_customer.customer_loyalty AS cl\n",
    "    JOIN snowflake.account_usage.tag_references AS tg\n",
    "        ON tg.object_id = cl.table_id\n",
    "        AND tg.tag_name = 'frostbyte_tasty_bytes.raw_customer.pii_email_tag'\n",
    "    WHERE cl.e_mail IS NOT NULL;\n",
    "\n",
    "    RETURN 'Processed tagged emails successfully';\n",
    "END;\n",
    "$$;\n"
   ]
  },
  {
   "cell_type": "markdown",
   "id": "fefddb86-3d1a-4e52-9955-a4cef03a5003",
   "metadata": {
    "collapsed": false,
    "name": "cell19"
   },
   "source": [
    "This task will execute the stored procedure every 10 minutes."
   ]
  },
  {
   "cell_type": "code",
   "execution_count": null,
   "id": "2fc44ef7-e0ca-4748-9cd0-55ddc050c227",
   "metadata": {
    "language": "sql",
    "name": "cell17"
   },
   "outputs": [],
   "source": [
    "CREATE OR REPLACE TASK frostbyte_tasty_bytes.raw_customer.process_pii_email_task\n",
    "    WAREHOUSE = COMPUTE\n",
    "    SCHEDULE = '10 MINUTE'\n",
    "    COMMENT = 'Task to process email-tagged data'\n",
    "AS\n",
    "CALL frostbyte_tasty_bytes.raw_customer.process_pii_email_tag();\n",
    "\n",
    "ALTER TASK frostbyte_tasty_bytes.raw_customer.process_pii_email_task RESUME;"
   ]
  },
  {
   "cell_type": "markdown",
   "id": "2acc77be-4ac1-4ff2-bbd8-810914fb87dd",
   "metadata": {
    "collapsed": false,
    "name": "Use_Case_9"
   },
   "source": [
    "### Use Case 9\n",
    "\n",
    "#### What This Does:\n",
    "This section defines **masking policies** in Snowflake, which are security rules that control how sensitive data is displayed to different users based on their **roles**. Masking policies ensure that only authorized users can see full data, while others see a masked version.\n",
    "\n",
    "#### Key Concepts:\n",
    "1. **Role-Based Access**: Only users with the `SYSADMIN` or `ACCOUNTADMIN` role can see full data. All other users see masked values.\n",
    "2. **Conditional Masking**: Each policy checks the current user's role before determining how much data to reveal.\n",
    "3. **Data Protection**: Sensitive information like names, phone numbers, and email addresses are partially or fully obscured for unauthorized users.\n",
    "\n"
   ]
  },
  {
   "cell_type": "code",
   "execution_count": null,
   "id": "76897fec-3035-4338-ade5-81002c71b339",
   "metadata": {
    "language": "sql",
    "name": "cell6"
   },
   "outputs": [],
   "source": [
    "-- Section 5: Step 1 - Creating Masking Policies\n",
    "USE ROLE sysadmin;\n",
    "\n",
    "CREATE OR REPLACE MASKING POLICY frostbyte_tasty_bytes.raw_customer.name_mask AS (val STRING) RETURNS STRING ->\n",
    "    CASE \n",
    "        WHEN CURRENT_ROLE() IN ('SYSADMIN', 'ACCOUNTADMIN') THEN val\n",
    "    ELSE '**~MASKED~**'\n",
    "END;\n",
    "\n",
    "CREATE OR REPLACE MASKING POLICY frostbyte_tasty_bytes.raw_customer.phone_mask AS (val STRING) RETURNS STRING ->\n",
    "    CASE\n",
    "        WHEN CURRENT_ROLE() IN ('SYSADMIN', 'ACCOUNTADMIN') THEN val\n",
    "    ELSE CONCAT(LEFT(val,3), '-***-****')\n",
    "END;\n",
    "\n",
    "CREATE OR REPLACE MASKING POLICY frostbyte_tasty_bytes.raw_customer.email_mask AS (val STRING) RETURNS STRING ->\n",
    "    CASE \n",
    "        WHEN CURRENT_ROLE() IN ('SYSADMIN', 'ACCOUNTADMIN') THEN val\n",
    "    ELSE CONCAT('**~MASKED~**','@', SPLIT_PART(val, '@', -1))\n",
    "END;\n",
    "            "
   ]
  },
  {
   "cell_type": "markdown",
   "id": "b6038bd5-fb8b-4085-8a26-2f07ab9f5148",
   "metadata": {
    "collapsed": false,
    "name": "cell23"
   },
   "source": [
    "This step **links masking policies to data tags**, ensuring that any column with a specific **tag** automatically inherits the corresponding **masking policy**.\n"
   ]
  },
  {
   "cell_type": "code",
   "execution_count": null,
   "id": "25b13a9f-94cd-435b-af9a-dc349c076237",
   "metadata": {
    "language": "sql",
    "name": "cell7"
   },
   "outputs": [],
   "source": [
    "-- Section 5: Step 2 - Applying Masking Policies Tags\n",
    "USE ROLE accountadmin;\n",
    "\n",
    "ALTER TAG frostbyte_tasty_bytes.raw_customer.pii_name_tag \n",
    "    SET MASKING POLICY frostbyte_tasty_bytes.raw_customer.name_mask;\n",
    "    \n",
    "ALTER TAG frostbyte_tasty_bytes.raw_customer.pii_phone_number_tag\n",
    "    SET MASKING POLICY frostbyte_tasty_bytes.raw_customer.phone_mask;\n",
    "    \n",
    "ALTER TAG frostbyte_tasty_bytes.raw_customer.pii_email_tag\n",
    "    SET MASKING POLICY frostbyte_tasty_bytes.raw_customer.email_mask;"
   ]
  },
  {
   "cell_type": "markdown",
   "id": "fac9a398-911f-4b65-9d7f-907fbf309832",
   "metadata": {
    "collapsed": false,
    "name": "cell24"
   },
   "source": [
    "Let's test out the masking policies. "
   ]
  },
  {
   "cell_type": "code",
   "execution_count": null,
   "id": "863306ff-9fcb-4a6a-87f8-05b0b030eabe",
   "metadata": {
    "language": "sql",
    "name": "cell8"
   },
   "outputs": [],
   "source": [
    "USE ROLE tasty_data_engineer;\n",
    "USE WAREHOUSE tasty_dev_wh;\n",
    "\n",
    "SELECT \n",
    "    cl.customer_id,\n",
    "    cl.first_name,\n",
    "    cl.last_name,\n",
    "    cl.phone_number,\n",
    "    cl.e_mail,\n",
    "    cl.city,\n",
    "    cl.country\n",
    "FROM frostbyte_tasty_bytes.raw_customer.customer_loyalty cl\n",
    "WHERE cl.country IN ('United States','Canada','Brazil');\n"
   ]
  },
  {
   "cell_type": "code",
   "execution_count": null,
   "id": "81402b34-a2a6-4d7a-bef1-7c49b73d99be",
   "metadata": {
    "language": "sql",
    "name": "cell9"
   },
   "outputs": [],
   "source": [
    "USE ROLE accountadmin;\n",
    "\n",
    "SELECT TOP 10\n",
    "    clm.customer_id,\n",
    "    clm.first_name,\n",
    "    clm.last_name,\n",
    "    clm.phone_number,\n",
    "    clm.e_mail,\n",
    "    SUM(clm.total_sales) AS lifetime_sales_usd\n",
    "FROM frostbyte_tasty_bytes.analytics.customer_loyalty_metrics_v clm\n",
    "WHERE 1=1\n",
    "    AND clm.city = 'San Mateo'\n",
    "GROUP BY clm.customer_id, clm.first_name, clm.last_name, clm.phone_number, clm.e_mail\n",
    "ORDER BY lifetime_sales_usd DESC;\n"
   ]
  },
  {
   "cell_type": "markdown",
   "id": "5db4fbf0-932b-4f54-b194-a86ff94a64b3",
   "metadata": {
    "collapsed": false,
    "name": "cell21"
   },
   "source": [
    "#### Why This Matters:\n",
    "- **Enhances Security**: Prevents unauthorized access to personally identifiable information (PII).\n",
    "- **Regulatory Compliance**: Helps meet data privacy requirements such as **GDPR** and **CCPA**.\n",
    "- **Flexibility**: Policies can be applied to multiple columns across different tables and adjusted as needed."
   ]
  },
  {
   "cell_type": "markdown",
   "id": "d19bf992-6bfa-4fa8-8885-ca3ad5113e57",
   "metadata": {
    "collapsed": false,
    "name": "Row_Access_Policies"
   },
   "source": [
    "### Row-Access Policies in Snowflake\n",
    "\n",
    "#### What This Does:\n",
    "This setup **restricts access to specific rows** in a table based on a user's role and their assigned permissions. It ensures that users can only view rows corresponding to the cities they have permission to access.\n",
    "\n",
    "---\n",
    "\n",
    "### **Step-by-Step Breakdown:**\n",
    "#### **Step 1 - Creating a Mapping Table**\n",
    "- A table (`row_policy_map`) is created to store **role-based city access permissions**.\n",
    "- Each row links a **user role** to an **allowed city**.\n",
    "\n",
    "#### **Step 2 - Inserting Mapping Records**\n",
    "- A sample entry is added:  \n",
    "  - Users with the role `TASTY_TEST_ROLE` can only see rows where `city = 'Tokyo'`.\n",
    "\n",
    "#### **Step 3 - Creating a Row Access Policy**\n",
    "- A **Row Access Policy** (`customer_city_row_policy`) is created to **control row visibility**.\n",
    "- It grants full access to **administrative roles** (`ACCOUNTADMIN`, `SYSADMIN`, etc.).\n",
    "- For other users:\n",
    "  - The policy checks if their **current role** exists in the `row_policy_map` table.\n",
    "  - If a role has permissions for a specific city, the user sees only those rows.\n",
    "\n",
    "#### **Step 4 - Applying the Policy to a Table**\n",
    "- The **Row Access Policy** is applied to the `customer_loyalty` table on the `city` column.\n",
    "- Now, when a user queries `customer_loyalty`, they only see rows where:\n",
    "  - Their role is explicitly allowed to view the city.\n",
    "  - Or they belong to an admin-level role."
   ]
  },
  {
   "cell_type": "code",
   "execution_count": null,
   "id": "205f1544-7457-42fa-96c3-888bc30201c4",
   "metadata": {
    "language": "sql",
    "name": "cell10"
   },
   "outputs": [],
   "source": [
    "-- Step 1 - Creating a Mapping Table\n",
    "USE ROLE accountadmin;\n",
    "\n",
    "CREATE OR REPLACE TABLE frostbyte_tasty_bytes.public.row_policy_map\n",
    "    (role STRING, city_permissions STRING);\n",
    "\n",
    "    \n",
    "-- Step 2 - Inserting Mapping Records\n",
    "INSERT INTO frostbyte_tasty_bytes.public.row_policy_map\n",
    "    VALUES ('TASTY_DATA_ENGINEER','Tokyo');\n",
    "    \n",
    "\n",
    "-- Step 3 - Creating a Row Access Policy\n",
    "CREATE OR REPLACE ROW ACCESS POLICY frostbyte_tasty_bytes.public.customer_city_row_policy\n",
    "    AS (city STRING) RETURNS BOOLEAN ->\n",
    "       CURRENT_ROLE() IN \n",
    "       (\n",
    "           'ACCOUNTADMIN','SYSADMIN', 'TASTY_ADMIN', \n",
    "           'TASTY_DATA_APP','TASTY_BI','TASTY_DATA_SCIENTIST','TASTY_DEV'\n",
    "       ) \n",
    "        OR EXISTS \n",
    "            (\n",
    "            SELECT rp.role \n",
    "                FROM frostbyte_tasty_bytes.public.row_policy_map rp\n",
    "            WHERE 1=1\n",
    "                AND rp.role = CURRENT_ROLE()\n",
    "                AND rp.city_permissions = city\n",
    "            );\n",
    "\n",
    "            \n",
    "-- Step 4 - Applying a Row Access Policy to a Table\n",
    "ALTER TABLE frostbyte_tasty_bytes.raw_customer.customer_loyalty\n",
    "    ADD ROW ACCESS POLICY frostbyte_tasty_bytes.public.customer_city_row_policy ON (city);\n"
   ]
  },
  {
   "cell_type": "markdown",
   "id": "905f317f-1c6d-439f-b2c5-c5996cccdc13",
   "metadata": {
    "collapsed": false,
    "name": "cell25"
   },
   "source": [
    "Let's test out the row-level policies."
   ]
  },
  {
   "cell_type": "code",
   "execution_count": null,
   "id": "e4c456e2-1a05-4399-8192-d5056500ca77",
   "metadata": {
    "language": "sql",
    "name": "cell11"
   },
   "outputs": [],
   "source": [
    "-- Step 5 - Testing our Row Access Policy in a Non-Privileged Role\n",
    "USE ROLE tasty_data_engineer;\n",
    "\n",
    "SELECT \n",
    "    cl.customer_id,\n",
    "    cl.first_name,\n",
    "    cl.last_name,\n",
    "    cl.city,\n",
    "    cl.marital_status,\n",
    "    cl.age AS age\n",
    "FROM frostbyte_tasty_bytes.raw_customer.customer_loyalty cl\n",
    "GROUP BY cl.customer_id, cl.first_name, cl.last_name, cl.city, cl.marital_status, age;\n",
    "\n"
   ]
  },
  {
   "cell_type": "code",
   "execution_count": null,
   "id": "9dd76762-9b0f-4bd8-aa60-754244d06b9d",
   "metadata": {
    "language": "sql",
    "name": "cell12"
   },
   "outputs": [],
   "source": [
    "-- Step 7 - Testing our Row Access Policy in a Privileged Role\n",
    "USE ROLE sysadmin;\n",
    "\n",
    "SELECT \n",
    "    cl.customer_id,\n",
    "    cl.first_name,\n",
    "    cl.last_name,\n",
    "    cl.city,\n",
    "    cl.marital_status,\n",
    "    cl.age\n",
    "FROM frostbyte_tasty_bytes.raw_customer.customer_loyalty cl\n",
    "GROUP BY cl.customer_id, cl.first_name, cl.last_name, cl.city, cl.marital_status, age;\n",
    "\n",
    "\n"
   ]
  },
  {
   "cell_type": "markdown",
   "id": "fe72472d-6d0e-49bf-b4a7-ebe7dac43944",
   "metadata": {
    "collapsed": false,
    "name": "cell26"
   },
   "source": [
    "### **Why This Matters:**\n",
    "- **Data Security & Compliance**: Ensures that users only access data they are authorized to view.\n",
    "- **Role-Based Row Filtering**: Different users see different data dynamically.\n",
    "- **Scalability**: New access rules can be added to `row_policy_map` without modifying the policy.\n",
    "\n",
    "✅ Snowflake maintains security policies even when data is shared, while our Spark-based competitors require manual re-implementation.\n"
   ]
  },
  {
   "cell_type": "markdown",
   "id": "95f5efa2-655e-4e73-9dee-4b1b283720da",
   "metadata": {
    "collapsed": false,
    "name": "Differential_Privacy"
   },
   "source": [
    "### Snowflake Differential Privacy\n",
    "\n",
    "Demonstrates differential privacy techniques while showcasing advanced governance features.\n",
    "\n",
    "Differentiators:\n",
    "- Snowflake provides native privacy policy enforcement, role-based access control, \n",
    "and automatic noise addition at the query level. \n",
    "- Unlike other platforms that require additional tools, Snowflake integrates privacy protection directly into the SQL layer, ensuring **seamless** governance.\n",
    "\n",
    "-- \n",
    "\n",
    "Step 1\n",
    "\n",
    "Snowflake allows defining a Privacy Policy to enforce role-based privacy constraints dynamically.\n",
    "- No need for external privacy frameworks—built-in differential privacy support.\n",
    "- Automatic privacy budget management at the database level, reducing compliance overhead.\n",
    "- Fine-grained role-based access control (RBAC) for privacy-aware query execution.\n"
   ]
  },
  {
   "cell_type": "code",
   "execution_count": null,
   "id": "a6166221-915f-4113-8297-f4b06b42710a",
   "metadata": {
    "language": "sql",
    "name": "cell27"
   },
   "outputs": [],
   "source": [
    "\n",
    "-- =============================================================\n",
    "-- 1. Privacy Policy Implementation \n",
    "-- =============================================================\n",
    "-- \n",
    "USE ROLE ACCOUNTADMIN;\n",
    "\n",
    "CREATE OR REPLACE PRIVACY POLICY FROSTBYTE_TASTY_BYTES.RAW_CUSTOMER.privacy_policy AS () RETURNS privacy_budget ->\n",
    "  CASE\n",
    "    WHEN CURRENT_ROLE() = 'ACCOUNTADMIN' THEN no_privacy_policy()\n",
    "    WHEN CURRENT_ROLE() IN ('TASTY_BI')\n",
    "      THEN privacy_budget(budget_name => 'analysts')\n",
    "    ELSE privacy_budget(budget_name => 'default')\n",
    "END;\n",
    "\n",
    "-- Assign the privacy policy to the table.\n",
    "ALTER TABLE FROSTBYTE_TASTY_BYTES.RAW_CUSTOMER.CUSTOMER_LOYALTY\n",
    "ADD PRIVACY POLICY FROSTBYTE_TASTY_BYTES.RAW_CUSTOMER.privacy_policy ENTITY KEY (customer_id);\n"
   ]
  },
  {
   "cell_type": "code",
   "execution_count": null,
   "id": "e87fc8a6-412d-4f96-8499-1f42afd71814",
   "metadata": {
    "language": "sql",
    "name": "cell29"
   },
   "outputs": [],
   "source": [
    "-- =============================================================\n",
    "-- 2. Privacy Domains Enforcement \n",
    "-- =============================================================\n",
    "-- Snowflake allows explicit privacy domain enforcement, ensuring category-based protection.\n",
    "-- - Unlike alternative solutions requiring manual masking, Snowflake automates category-based privacy enforcement.\n",
    "-- - The system prevents over-querying individual attributes, mitigating deanonymization risks.\n",
    "\n",
    "\n",
    "ALTER TABLE FROSTBYTE_TASTY_BYTES.RAW_CUSTOMER.CUSTOMER_LOYALTY ALTER (\n",
    "COLUMN gender SET PRIVACY DOMAIN IN ('female', 'male', 'undisclosed'),\n",
    "COLUMN marital_status SET PRIVACY DOMAIN IN ('single', 'married', 'undisclosed'),\n",
    "COLUMN age SET PRIVACY DOMAIN BETWEEN (0,90)\n",
    ");\n"
   ]
  },
  {
   "cell_type": "code",
   "execution_count": null,
   "id": "a9b6fa21-760a-4fd5-b4c9-51d65d379ca3",
   "metadata": {
    "language": "sql",
    "name": "cell30"
   },
   "outputs": [],
   "source": [
    "-- =============================================================\n",
    "-- 3. Role-Based Query Access Demonstration\n",
    "-- =============================================================\n",
    "-- Snowflake ensures role-based privacy enforcement, restricting access dynamically.\n",
    "-- - Unlike alternatives requiring manual data redaction, Snowflake applies automatic query adjustments.\n",
    "-- - Noise injection ensures that aggregations remain privacy-safe.\n",
    "\n",
    "USE ROLE ACCOUNTADMIN;\n",
    "SELECT * FROM FROSTBYTE_TASTY_BYTES.RAW_CUSTOMER.CUSTOMER_LOYALTY;\n",
    "\n",
    "\n",
    "-- =============================================================\n",
    "-- 4. Differential Privacy in Aggregations\n",
    "-- =============================================================\n",
    "-- Snowflake allows controlled privacy-preserving aggregates, adding noise dynamically.\n",
    "-- - Unlike basic role-based masking, Snowflake adds quantifiable differential privacy.\n",
    "-- - Ensures that repeated queries do not leak sensitive individual data.\n",
    "\n",
    "\n",
    "\n"
   ]
  },
  {
   "cell_type": "code",
   "execution_count": null,
   "id": "2ca87c34-7b2f-4c8c-934b-5936957b0755",
   "metadata": {
    "language": "sql",
    "name": "cell1"
   },
   "outputs": [],
   "source": [
    "USE ROLE TASTY_BI;\n",
    "SELECT * FROM FROSTBYTE_TASTY_BYTES.RAW_CUSTOMER.CUSTOMER_LOYALTY;\n"
   ]
  },
  {
   "cell_type": "code",
   "execution_count": null,
   "id": "6a634a0e-7779-4b57-9103-94cb17e21389",
   "metadata": {
    "language": "sql",
    "name": "cell15"
   },
   "outputs": [],
   "source": [
    "USE ROLE ACCOUNTADMIN;\n",
    "SELECT COUNT(DISTINCT customer_id)\n",
    "  FROM FROSTBYTE_TASTY_BYTES.RAW_CUSTOMER.CUSTOMER_LOYALTY\n",
    "  WHERE age > 50;"
   ]
  },
  {
   "cell_type": "code",
   "execution_count": null,
   "id": "68d9a10c-ed2d-4cd5-bad2-a55de24e5ab3",
   "metadata": {
    "language": "sql",
    "name": "cell20"
   },
   "outputs": [],
   "source": [
    "USE ROLE TASTY_BI;\n",
    "USE WAREHOUSE TASTY_BI_WH;\n",
    "SELECT COUNT(DISTINCT customer_id)\n",
    "  FROM FROSTBYTE_TASTY_BYTES.RAW_CUSTOMER.CUSTOMER_LOYALTY\n",
    "  WHERE age > 50;\n"
   ]
  },
  {
   "cell_type": "code",
   "execution_count": null,
   "id": "6c6ad65e-a96e-47d0-9035-77cea46b948e",
   "metadata": {
    "language": "sql",
    "name": "cell31"
   },
   "outputs": [],
   "source": [
    "-- =============================================================\n",
    "-- 5. Privacy-Aware Confidence Intervals for Queries\n",
    "-- =============================================================\n",
    "-- Snowflake allows users to retrieve noise bounds to understand privacy-preserving error margins.\n",
    "-- - Unlike alternatives that require manual statistical analysis, Snowflake provides built-in uncertainty bounds.\n",
    "-- - Ensures analysts receive privacy-safe insights without exposing raw values.\n",
    "\n",
    "USE ROLE TASTY_BI;\n",
    "SELECT COUNT(DISTINCT customer_id) as c,\n",
    "  DP_INTERVAL_LOW(c) as LOW,\n",
    "  DP_INTERVAL_HIGH(c) as HIGH\n",
    "  FROM FROSTBYTE_TASTY_BYTES.RAW_CUSTOMER.CUSTOMER_LOYALTY\n",
    "  WHERE age > 50;\n"
   ]
  },
  {
   "cell_type": "markdown",
   "id": "9f3068d9-f009-4f9b-9afd-d226962d44c6",
   "metadata": {
    "collapsed": false,
    "name": "cell32"
   },
   "source": [
    "### Why this matters\n",
    "\n",
    "\n",
    "- ✅ **Built-in differential privacy enforcement** at the SQL level.\n",
    "- ✅ **Role-based privacy policies** without needing external tools.\n",
    "- ✅ **Category-based privacy domains** prevent data re-identification.\n",
    "- ✅ **Privacy-safe aggregation** with noise-based protections.\n",
    "- ✅ **Dynamic policy removal & updates** for compliance adaptability."
   ]
  },
  {
   "cell_type": "code",
   "execution_count": null,
   "id": "7666b2ef-acb5-4077-a15b-6007617bdf5e",
   "metadata": {
    "language": "sql",
    "name": "cell13"
   },
   "outputs": [],
   "source": [
    "/**********************************************************************/\n",
    "/*------               Quickstart Reset Scripts                 ------*/\n",
    "/*------   These can be ran to reset your account to a state    ------*/\n",
    "/*----- that will allow you to run through this Quickstart again -----*/\n",
    "/**********************************************************************/\n",
    "\n",
    "USE ROLE accountadmin;\n",
    "\n",
    "ALTER TAG frostbyte_tasty_bytes.raw_customer.pii_name_tag UNSET MASKING POLICY frostbyte_tasty_bytes.raw_customer.name_mask;\n",
    "ALTER TAG frostbyte_tasty_bytes.raw_customer.pii_phone_number_tag UNSET MASKING POLICY frostbyte_tasty_bytes.raw_customer.phone_mask;\n",
    "ALTER TAG frostbyte_tasty_bytes.raw_customer.pii_email_tag UNSET MASKING POLICY frostbyte_tasty_bytes.raw_customer.email_mask;\n",
    "\n",
    "DROP TAG IF EXISTS frostbyte_tasty_bytes.raw_customer.pii_name_tag;\n",
    "DROP TAG IF EXISTS frostbyte_tasty_bytes.raw_customer.pii_phone_number_tag;\n",
    "DROP TAG IF EXISTS frostbyte_tasty_bytes.raw_customer.pii_email_tag;\n",
    "\n",
    "ALTER TABLE frostbyte_tasty_bytes.raw_customer.customer_loyalty\n",
    "DROP ROW ACCESS POLICY frostbyte_tasty_bytes.public.customer_city_row_policy;\n",
    "\n",
    "DROP TABLE IF EXISTS frostbyte_tasty_bytes.public.row_policy_map;\n",
    "ALTER TABLE FROSTBYTE_TASTY_BYTES.RAW_CUSTOMER.CUSTOMER_LOYALTY\n",
    "  DROP PRIVACY POLICY FROSTBYTE_TASTY_BYTES.RAW_CUSTOMER.privacy_policy;\n"
   ]
  },
  {
   "cell_type": "code",
   "execution_count": null,
   "id": "18135e7e-c8dd-4c4e-9608-e5b73130fdb9",
   "metadata": {
    "language": "sql",
    "name": "cell22"
   },
   "outputs": [],
   "source": [
    "ALTER TABLE FROSTBYTE_TASTY_BYTES.RAW_CUSTOMER.CUSTOMER_LOYALTY\n",
    "  DROP PRIVACY POLICY FROSTBYTE_TASTY_BYTES.RAW_CUSTOMER.privacy_policy;"
   ]
  }
 ],
 "metadata": {
  "kernelspec": {
   "display_name": "Streamlit Notebook",
   "name": "streamlit"
  },
  "lastEditStatus": {
   "authorEmail": "saad.facchine@snowflake.com",
   "authorId": "492945067848",
   "authorName": "SFACCHINE",
   "lastEditTime": 1742497093421,
   "notebookId": "rdxpt6xyicz6xbzcyirw",
   "sessionId": "a0a3f2f5-1a8a-44ad-81b8-df13d4f7e93b"
  }
 },
 "nbformat": 4,
 "nbformat_minor": 5
}
